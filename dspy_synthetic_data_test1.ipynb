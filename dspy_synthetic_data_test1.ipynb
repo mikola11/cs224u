{
  "nbformat": 4,
  "nbformat_minor": 0,
  "metadata": {
    "colab": {
      "provenance": [],
      "authorship_tag": "ABX9TyPNGj/8ZwjZEJ8yuuBoPpyw",
      "include_colab_link": true
    },
    "kernelspec": {
      "name": "python3",
      "display_name": "Python 3"
    },
    "language_info": {
      "name": "python"
    }
  },
  "cells": [
    {
      "cell_type": "markdown",
      "metadata": {
        "id": "view-in-github",
        "colab_type": "text"
      },
      "source": [
        "<a href=\"https://colab.research.google.com/github/mikola11/cs224u/blob/main/dspy_synthetic_data_test1.ipynb\" target=\"_parent\"><img src=\"https://colab.research.google.com/assets/colab-badge.svg\" alt=\"Open In Colab\"/></a>"
      ]
    },
    {
      "cell_type": "code",
      "execution_count": 3,
      "metadata": {
        "colab": {
          "base_uri": "https://localhost:8080/"
        },
        "id": "kO7mecUX5F5U",
        "outputId": "48c0946a-fd10-4bfa-8007-38b9831a3492"
      },
      "outputs": [
        {
          "output_type": "stream",
          "name": "stdout",
          "text": [
            "Collecting python-dotenv\n",
            "  Downloading python_dotenv-1.0.1-py3-none-any.whl (19 kB)\n",
            "Installing collected packages: python-dotenv\n",
            "Successfully installed python-dotenv-1.0.1\n"
          ]
        }
      ],
      "source": [
        "#!pip install sentence_transformers dspy-ai openai python-dotenv\n",
        "!pip install python-dotenv\n"
      ]
    },
    {
      "cell_type": "code",
      "source": [
        "import openai\n",
        "import dspy\n",
        "import pandas as pd\n",
        "import numpy as np\n",
        "from dotenv import load_dotenv\n",
        "import os\n",
        "from tqdm import tqdm\n",
        "import re\n",
        "import random\n",
        "from dspy.evaluate.metrics import answer_exact_match\n",
        "from dspy.evaluate import Evaluate\n",
        "from dspy.teleprompt import LabeledFewShot, BootstrapFewShot, BootstrapFewShotWithRandomSearch\n",
        "import pdb"
      ],
      "metadata": {
        "id": "RVcl2tYh7CuI"
      },
      "execution_count": 4,
      "outputs": []
    },
    {
      "cell_type": "code",
      "source": [
        "load_dotenv('keys.env')\n",
        "openai_key = os.getenv('OPENAI_API_KEY')\n",
        "repo_path = 'dspy'\n",
        "os.environ[\"DSP_NOTEBOOK_CACHEDIR\"] = os.path.join(repo_path, 'cache')"
      ],
      "metadata": {
        "id": "PWLtRA8J8DzR"
      },
      "execution_count": null,
      "outputs": []
    },
    {
      "cell_type": "code",
      "source": [
        "lm = dspy.OpenAI(model='gpt-3.5-turbo', api_key=openai_key)\n",
        "rm = dspy.ColBERTv2(url='http://20.102.90.50:2017/wiki17_abstracts')\n",
        "dspy.settings.configure(lm=lm, rm=rm)"
      ],
      "metadata": {
        "id": "AthYWAik8Ee_"
      },
      "execution_count": null,
      "outputs": []
    },
    {
      "cell_type": "code",
      "source": [
        "class Deviation(dspy.Signature):\n",
        "    date = dspy.InputField(desc='Date of occurrence')\n",
        "    problem = dspy.InputField(desc='Nature of the problem')\n",
        "    process = dspy.InputField(desc='Process where the problem occurred')\n",
        "    batch_id = dspy.InputField(desc='Manufactured product Batch ID that was involved')\n",
        "    product_name = dspy.InputField(desc='Name of the product manufactured')\n",
        "    operator = dspy.InputField(desc='Name and ID of the person who performed the operation')\n",
        "    verifier = dspy.InputField(desc='Name and ID of the person who verified the operation')\n",
        "    qa_name = dspy.InputField(desc='Name and ID of the person who answered the question')\n",
        "    material = dspy.InputField(desc='Material used in the operation')\n",
        "    consumable = dspy.InputField(desc='Consumable used in the operation')\n",
        "    equiopment = dspy.InputField(desc='Equipment used in the operation')\n",
        "    document = dspy.InputField(desc='Document, SOP or work instruction, governing the operation and that was breached')\n",
        "\n",
        "    deviation_title = dspy.OutputField(desc='Deviation title, no more than 255 symbols')\n",
        "    deviation_description = dspy.OutputField(desc='Deviation description, between 100 and 500 words')"
      ],
      "metadata": {
        "id": "hZzjtx3O8EoI"
      },
      "execution_count": null,
      "outputs": []
    },
    {
      "cell_type": "code",
      "source": [],
      "metadata": {
        "id": "-1Dj_pME8Evc"
      },
      "execution_count": null,
      "outputs": []
    }
  ]
}