{
  "nbformat": 4,
  "nbformat_minor": 0,
  "metadata": {
    "colab": {
      "provenance": [],
      "authorship_tag": "ABX9TyMB7Qbw/zb8/NuS1OrxwYzo",
      "include_colab_link": true
    },
    "kernelspec": {
      "name": "python3",
      "display_name": "Python 3"
    },
    "language_info": {
      "name": "python"
    }
  },
  "cells": [
    {
      "cell_type": "markdown",
      "metadata": {
        "id": "view-in-github",
        "colab_type": "text"
      },
      "source": [
        "<a href=\"https://colab.research.google.com/github/mikola11/cs224u/blob/main/dspy_synthetic_data_test1.ipynb\" target=\"_parent\"><img src=\"https://colab.research.google.com/assets/colab-badge.svg\" alt=\"Open In Colab\"/></a>"
      ]
    },
    {
      "cell_type": "code",
      "execution_count": null,
      "metadata": {
        "id": "kO7mecUX5F5U"
      },
      "outputs": [],
      "source": [
        "!pip install sentence_transformers dspy-ai openai python-dotenv"
      ]
    },
    {
      "cell_type": "code",
      "source": [
        "import openai\n",
        "import dspy\n",
        "import pandas as pd\n",
        "import numpy as np\n",
        "from dotenv import load_dotenv\n",
        "import os\n",
        "from tqdm import tqdm\n",
        "import re\n",
        "import random\n",
        "from dspy.evaluate.metrics import answer_exact_match\n",
        "from dspy.evaluate import Evaluate\n",
        "from dspy.teleprompt import LabeledFewShot, BootstrapFewShot, BootstrapFewShotWithRandomSearch\n",
        "import pdb"
      ],
      "metadata": {
        "id": "RVcl2tYh7CuI"
      },
      "execution_count": 2,
      "outputs": []
    },
    {
      "cell_type": "code",
      "source": [
        "load_dotenv('keys.env')\n",
        "openai_key = os.getenv('OPENAI_API_KEY')\n",
        "repo_path = 'dspy'\n",
        "os.environ[\"DSP_NOTEBOOK_CACHEDIR\"] = os.path.join(repo_path, 'cache')"
      ],
      "metadata": {
        "id": "PWLtRA8J8DzR"
      },
      "execution_count": 3,
      "outputs": []
    },
    {
      "cell_type": "code",
      "source": [
        "lm = dspy.OpenAI(model='gpt-4-turbo', api_key=openai_key, max_tokens=4096)\n",
        "rm = dspy.ColBERTv2(url='http://20.102.90.50:2017/wiki17_abstracts')\n",
        "dspy.settings.configure(lm=lm, rm=rm)"
      ],
      "metadata": {
        "id": "AthYWAik8Ee_"
      },
      "execution_count": 8,
      "outputs": []
    },
    {
      "cell_type": "code",
      "source": [
        "class Deviation(dspy.Signature):\n",
        "    \"\"\"\n",
        "    You are a quality assurance specialist working on the floor where a Biologics product is manufactured.\n",
        "    You just encountered a deviation that you need to report. Write a deviation report based on the the following information below.\n",
        "    The report should contain only two fields: 1) deviation title and 2) deviation description.\n",
        "    Brevity is important. Use shorter sentences and common biomanufacturing acronyms where possible.\n",
        "    \"\"\"\n",
        "\n",
        "    date = dspy.InputField(desc='Date of occurrence')\n",
        "    problem = dspy.InputField(desc='Nature of the problem')\n",
        "    problem_context = dspy.InputField(desc='Context of the problem') #To be provided through a retreiver\n",
        "    process = dspy.InputField(desc='Process where the problem occurred')\n",
        "    batch_id = dspy.InputField(desc='Manufactured product Batch ID that was involved')\n",
        "    order_nr = dspy.InputField(desc='Process Order number for batch')\n",
        "    product_name = dspy.InputField(desc='Name of the product manufactured')\n",
        "    operator = dspy.InputField(desc='Name and ID of the person who performed the operation')\n",
        "    verifier = dspy.InputField(desc='Name and ID of the person who verified the operation')\n",
        "    qa_name = dspy.InputField(desc='Name and ID of the person who answered the question')\n",
        "    material = dspy.InputField(desc='Material used in the operation')\n",
        "    equipment = dspy.InputField(desc='Equipment used in the operation')\n",
        "    document = dspy.InputField(desc='Document, SOP or work instruction, governing the operation and that was breached')\n",
        "    text_structure = dspy.InputField(desc='Desired text structure of the deviation description')\n",
        "\n",
        "    deviation_title = dspy.OutputField(desc='Deviation title, usually no more than 255 symbols')\n",
        "    deviation_description = dspy.OutputField(desc='Deviation description, usually between 100 and 600 words')"
      ],
      "metadata": {
        "id": "hZzjtx3O8EoI"
      },
      "execution_count": 9,
      "outputs": []
    },
    {
      "cell_type": "code",
      "source": [
        "rec = {\n",
        "    \"date\": \"Apr-1, 2023\",\n",
        "    \"problem\": \"Filter failed FIT \",\n",
        "    \"problem_context\": \"Prior to actual filtration of the product, the filter should be flushed with either product or water for injection to reduce potential extractables and downstream particles. The filter is then subjected to a filter integrity test (pre-filtration filter integrity test), and after the solution is filtered, the filter is again subjected to a second filter integrity test (post-filtration filter integrity test). This integrity test is usually performed either as the bubble point test or as the diffusion or forward flow test. The principle of the bubble point test is that a fully wetted membrane filter of extremely small pore size will hold liquid in the pores by surface tension and capillary force. The pressure of a gas required to force the entrapped liquid both through and out of the fully wetted pore capillary is referred to as the bubble point because air bubbles will appear after the liquid is forced out. The bubble point is a function of the type and pore size of the filter membrane, the surface tension of the liquid, and temperature. The bubble point pressure is correlated to the microbial log reduction value as determined by the filter manufacturer, so that filter having a bubble point greater than the established specification is shown to retain B.diminuta. Filters and the corresponding bubble points: 0.1 μm PVDF: 70; 0.22 μm PVDF: 50, 0.2 μm MCE: 55, 0.45 μm MCE: 30, 0.65 μm MCE: 17.\",\n",
        "    \"process\": \"Aseptic fill of the final product\",\n",
        "    \"batch_id\": \"A23001\",\n",
        "    \"order_nr\": \"1030002\",\n",
        "    \"product_name\": \"ferolizumab\",\n",
        "    \"operator\": \"John Smith 130299\",\n",
        "    \"verifier\": \"Barbara Johnson 120392\",\n",
        "    \"qa_name\": \"Bill Maher 140002\",\n",
        "    \"material\": \"1002201 GVWP04700 PVDF Membrane Filter, 0.22 μm MILLIPORE\",\n",
        "    \"equipment\": \"HMBG:A1:000-FLT-120\",\n",
        "    \"location\": \"Suite A1\",\n",
        "    \"site\": \"Hamburg\",\n",
        "    \"document\": \"SOP-080299 Aseptic Filling Operations in Biologic Drug Production v2.0\",\n",
        "    \"text_structure\": \"The 5Ws and H framework\"\n",
        "    }\n",
        "\n",
        "example = dspy.Example(date=rec['date'],\n",
        "             problem=rec['problem'],\n",
        "             problem_context=rec['problem_context'],\n",
        "             process=rec['process'],\n",
        "             batch_id=rec['batch_id'],\n",
        "             order_nr=rec['order_nr'],\n",
        "             product_name=rec['product_name'],\n",
        "             operator=rec['operator'],\n",
        "             verifier=rec['verifier'],\n",
        "             qa_name=rec['qa_name'],\n",
        "             material=rec['material'],\n",
        "             equipment=rec['equipment'],\n",
        "             document=rec['document'],\n",
        "             text_structure=rec['text_structure']\n",
        "             ).with_inputs('date',\n",
        "                           'problem',\n",
        "                           'problem_context',\n",
        "                           'process',\n",
        "                           'batch_id',\n",
        "                           'order_nr',\n",
        "                           'product_name',\n",
        "                           'operator',\n",
        "                           'verifier',\n",
        "                           'qa_name',\n",
        "                           'material',\n",
        "                           'equipment',\n",
        "                           'document',\n",
        "                           'text_structure')"
      ],
      "metadata": {
        "id": "-1Dj_pME8Evc"
      },
      "execution_count": 10,
      "outputs": []
    },
    {
      "cell_type": "code",
      "source": [
        "generator = dspy.Predict(Deviation, temperature=1, n=3)\n",
        "result = generator(date=rec['date'],\n",
        "             problem=rec['problem'],\n",
        "             problem_context=rec['problem_context'],\n",
        "             process=rec['process'],\n",
        "             batch_id=rec['batch_id'],\n",
        "             order_nr=rec['order_nr'],\n",
        "             product_name=rec['product_name'],\n",
        "             operator=rec['operator'],\n",
        "             verifier=rec['verifier'],\n",
        "             qa_name=rec['qa_name'],\n",
        "             material=rec['material'],\n",
        "             equipment=rec['equipment'],\n",
        "             document=rec['document'],\n",
        "             text_structure=rec['text_structure'])\n",
        "result"
      ],
      "metadata": {
        "colab": {
          "base_uri": "https://localhost:8080/"
        },
        "id": "SYhE6NvAcz7Q",
        "outputId": "6e095586-e168-4dc0-a49b-de600cb956a9"
      },
      "execution_count": 12,
      "outputs": [
        {
          "output_type": "execute_result",
          "data": {
            "text/plain": [
              "Prediction(\n",
              "    deviation_title='Deviation Title: Failed Pre-Filtration Integrity Test of PVDF Membrane Filter during Aseptic Fill of Ferolizumab Batch A23001',\n",
              "    deviation_description='On Apr-1, 2023, during the aseptic filling process of Ferolizumab (Batch ID: A23001, Order Nr: 1030002), a deviation was noted concerning a PVDF membrane filter (Material: 1002201 GVWP04700, 0.22 μm MILLIPORE) which failed the pre-filtration integrity test. Specifically, the 0.22 μm PVDF membrane filter did not meet the bubble point specification of 50 psi required to ensure microbial retention as per SOP-080299 Aseptic Filling Operations in Biologic Drug Production v2.0. The operation was performed by Operator John Smith (ID: 130299), and verified by Barbara Johnson (ID: 120392). The deviation was identified and recorded by QA representative Bill Maher (ID: 140002). The equipment involved in the incident was identified as HMBG:A1:000-FLT-120. This failure to meet the bubble point specification raised concerns about potential contamination risk, necessitating immediate investigation and corrective actions to ensure the integrity of the product and compliance with established biomanufacturing protocols. Further actions will focus on re-assessment of filter integrity testing procedures and additional staff training if necessary.',\n",
              "    completions=Completions(...)\n",
              ") (2 completions omitted)"
            ]
          },
          "metadata": {},
          "execution_count": 12
        }
      ]
    },
    {
      "cell_type": "code",
      "source": [
        "result.completions['deviation_description'][1]"
      ],
      "metadata": {
        "colab": {
          "base_uri": "https://localhost:8080/",
          "height": 214
        },
        "id": "7nHDMayAdvT3",
        "outputId": "8a0ac793-9202-46d0-ce0e-c0b306021343"
      },
      "execution_count": 16,
      "outputs": [
        {
          "output_type": "execute_result",
          "data": {
            "text/plain": [
              "'On April 1, 2023, during the aseptic fill process of ferolizumab Batch ID A23001, process order number 1030002, a critical deviation occurred involving a filter integrity failure. The operation, performed by Operator John Smith (ID 130299) and verified by Barbara Johnson (ID 120392), required a pre-filtration integrity test on a 0.22 μm PVDF membrane filter (Material ID: 1002201 GVWP04700, MILLIPORE). The equipment used was designated HMBG:A1:000-FLT-120. According to SOP-080299, Aseptic Filling Operations in Biologic Drug Production v2.0, the filter should initially be flushed followed by the integrity testing, usually by the bubble point method. This method necessitates a minimum bubble point pressure corresponding to the filter’s microbial retention capability, with specifications for a 0.22 μm PVDF filter set at a bubble point of 50. However, the filter failed to meet this requirement. The QA oversight was provided by Bill Maher (ID 140002). Immediate actions included isolating the batch to prevent further processing and documenting this deviation as per required protocols. Further investigation is imperative to ascertain the root cause, addressing points such as potential material defect or procedural oversight to prevent recurrence. This deviation is critical given the sterility assurance requirements of aseptic processes, affecting batch quality and compliance.'"
            ],
            "application/vnd.google.colaboratory.intrinsic+json": {
              "type": "string"
            }
          },
          "metadata": {},
          "execution_count": 16
        }
      ]
    },
    {
      "cell_type": "code",
      "source": [
        "lm.inspect_history(1)"
      ],
      "metadata": {
        "colab": {
          "base_uri": "https://localhost:8080/",
          "height": 1000
        },
        "id": "u1-x5TvCd7vM",
        "outputId": "bd5680b6-7c89-4421-f3fb-e54dce264bc9"
      },
      "execution_count": 70,
      "outputs": [
        {
          "output_type": "stream",
          "name": "stdout",
          "text": [
            "\n",
            "\n",
            "\n",
            "You are a quality assurance specialist working on the floor where a Biologics product is manufactured.\n",
            "    You just encountered a deviation that you need to report. Write a deviation report based on the the following information below.\n",
            "    The report should contain only two fields: 1) deviation title and 2) deviation description.\n",
            "    Brevity is important. Use shorter sentences and common biomanufacturing acronyms where possible.\n",
            "\n",
            "---\n",
            "\n",
            "Follow the following format.\n",
            "\n",
            "Date: Date of occurrence\n",
            "\n",
            "Problem: Nature of the problem\n",
            "\n",
            "Problem Context: Context of the problem\n",
            "\n",
            "Process: Process where the problem occurred\n",
            "\n",
            "Batch Id: Manufactured product Batch ID that was involved\n",
            "\n",
            "Order Nr: Process Order number for batch\n",
            "\n",
            "Product Name: Name of the product manufactured\n",
            "\n",
            "Operator: Name and ID of the person who performed the operation\n",
            "\n",
            "Verifier: Name and ID of the person who verified the operation\n",
            "\n",
            "Qa Name: Name and ID of the person who answered the question\n",
            "\n",
            "Material: Material used in the operation\n",
            "\n",
            "Equipment: Equipment used in the operation\n",
            "\n",
            "Document: Document, SOP or work instruction, governing the operation and that was breached\n",
            "\n",
            "Text Structure: Desired text structure of the deviation description\n",
            "\n",
            "Deviation Title: Deviation title, usually no more than 255 symbols\n",
            "\n",
            "Deviation Description: Deviation description\n",
            "\n",
            "---\n",
            "\n",
            "Date: Apr-1, 2023\n",
            "\n",
            "Problem: Filter failed FIT\n",
            "\n",
            "Problem Context: Prior to actual filtration of the product, the filter should be flushed with either product or water for injection to reduce potential extractables and downstream particles. The filter is then subjected to a filter integrity test (pre-filtration filter integrity test), and after the solution is filtered, the filter is again subjected to a second filter integrity test (post-filtration filter integrity test). This integrity test is usually performed either as the bubble point test or as the diffusion or forward flow test. The principle of the bubble point test is that a fully wetted membrane filter of extremely small pore size will hold liquid in the pores by surface tension and capillary force. The pressure of a gas required to force the entrapped liquid both through and out of the fully wetted pore capillary is referred to as the bubble point because air bubbles will appear after the liquid is forced out. The bubble point is a function of the type and pore size of the filter membrane, the surface tension of the liquid, and temperature. The bubble point pressure is correlated to the microbial log reduction value as determined by the filter manufacturer, so that filter having a bubble point greater than the established specification is shown to retain B.diminuta. Filters and the corresponding bubble points: 0.1 μm PVDF: 70; 0.22 μm PVDF: 50, 0.2 μm MCE: 55, 0.45 μm MCE: 30, 0.65 μm MCE: 17.\n",
            "\n",
            "Process: Aseptic fill of the final product\n",
            "\n",
            "Batch Id: A23001\n",
            "\n",
            "Order Nr: 1030002\n",
            "\n",
            "Product Name: ferolizumab\n",
            "\n",
            "Operator: John Smith 130299\n",
            "\n",
            "Verifier: Barbara Johnson 120392\n",
            "\n",
            "Qa Name: Bill Maher 140002\n",
            "\n",
            "Material: 1002201 GVWP04700 PVDF Membrane Filter, 0.22 μm MILLIPORE\n",
            "\n",
            "Equipment: HMBG:A1:000-FLT-120\n",
            "\n",
            "Document: SOP-080299 Aseptic Filling Operations in Biologic Drug Production v2.0\n",
            "\n",
            "Text Structure: The 5Ws and H framework\n",
            "\n",
            "Deviation Title:\u001b[32m Deviation Title: Pre-Filtration Filter Integrity Failure in Aseptic Fill Process\n",
            "\n",
            "Deviation Description: On Apr-1, 2023, during the aseptic fill of ferolizumab, Batch ID A23001, Order Nr 1030002, the pre-filtration integrity test of the 0.22 μm PVDF filter (Material ID: 1002201 GVWP04700) failed. Operator John Smith (ID 130299) conducted the test using Equipment HMBG:A1:000-FLT-120, and the failure was verified by Barbara Johnson (ID 120392). The test, governed by SOP-080299 v2.0, is critical to ensuring the filter\u001b[0m\n",
            "\n",
            "\n",
            "\n"
          ]
        },
        {
          "output_type": "execute_result",
          "data": {
            "text/plain": [
              "'\\n\\n\\nYou are a quality assurance specialist working on the floor where a Biologics product is manufactured.\\n    You just encountered a deviation that you need to report. Write a deviation report based on the the following information below.\\n    The report should contain only two fields: 1) deviation title and 2) deviation description.\\n    Brevity is important. Use shorter sentences and common biomanufacturing acronyms where possible.\\n\\n---\\n\\nFollow the following format.\\n\\nDate: Date of occurrence\\n\\nProblem: Nature of the problem\\n\\nProblem Context: Context of the problem\\n\\nProcess: Process where the problem occurred\\n\\nBatch Id: Manufactured product Batch ID that was involved\\n\\nOrder Nr: Process Order number for batch\\n\\nProduct Name: Name of the product manufactured\\n\\nOperator: Name and ID of the person who performed the operation\\n\\nVerifier: Name and ID of the person who verified the operation\\n\\nQa Name: Name and ID of the person who answered the question\\n\\nMaterial: Material used in the operation\\n\\nEquipment: Equipment used in the operation\\n\\nDocument: Document, SOP or work instruction, governing the operation and that was breached\\n\\nText Structure: Desired text structure of the deviation description\\n\\nDeviation Title: Deviation title, usually no more than 255 symbols\\n\\nDeviation Description: Deviation description\\n\\n---\\n\\nDate: Apr-1, 2023\\n\\nProblem: Filter failed FIT\\n\\nProblem Context: Prior to actual filtration of the product, the filter should be flushed with either product or water for injection to reduce potential extractables and downstream particles. The filter is then subjected to a filter integrity test (pre-filtration filter integrity test), and after the solution is filtered, the filter is again subjected to a second filter integrity test (post-filtration filter integrity test). This integrity test is usually performed either as the bubble point test or as the diffusion or forward flow test. The principle of the bubble point test is that a fully wetted membrane filter of extremely small pore size will hold liquid in the pores by surface tension and capillary force. The pressure of a gas required to force the entrapped liquid both through and out of the fully wetted pore capillary is referred to as the bubble point because air bubbles will appear after the liquid is forced out. The bubble point is a function of the type and pore size of the filter membrane, the surface tension of the liquid, and temperature. The bubble point pressure is correlated to the microbial log reduction value as determined by the filter manufacturer, so that filter having a bubble point greater than the established specification is shown to retain B.diminuta. Filters and the corresponding bubble points: 0.1 μm PVDF: 70; 0.22 μm PVDF: 50, 0.2 μm MCE: 55, 0.45 μm MCE: 30, 0.65 μm MCE: 17.\\n\\nProcess: Aseptic fill of the final product\\n\\nBatch Id: A23001\\n\\nOrder Nr: 1030002\\n\\nProduct Name: ferolizumab\\n\\nOperator: John Smith 130299\\n\\nVerifier: Barbara Johnson 120392\\n\\nQa Name: Bill Maher 140002\\n\\nMaterial: 1002201 GVWP04700 PVDF Membrane Filter, 0.22 μm MILLIPORE\\n\\nEquipment: HMBG:A1:000-FLT-120\\n\\nDocument: SOP-080299 Aseptic Filling Operations in Biologic Drug Production v2.0\\n\\nText Structure: The 5Ws and H framework\\n\\nDeviation Title:\\x1b[32m Deviation Title: Pre-Filtration Filter Integrity Failure in Aseptic Fill Process\\n\\nDeviation Description: On Apr-1, 2023, during the aseptic fill of ferolizumab, Batch ID A23001, Order Nr 1030002, the pre-filtration integrity test of the 0.22 μm PVDF filter (Material ID: 1002201 GVWP04700) failed. Operator John Smith (ID 130299) conducted the test using Equipment HMBG:A1:000-FLT-120, and the failure was verified by Barbara Johnson (ID 120392). The test, governed by SOP-080299 v2.0, is critical to ensuring the filter\\x1b[0m\\n\\n\\n'"
            ],
            "application/vnd.google.colaboratory.intrinsic+json": {
              "type": "string"
            }
          },
          "metadata": {},
          "execution_count": 70
        }
      ]
    },
    {
      "cell_type": "code",
      "source": [],
      "metadata": {
        "id": "n2HnsH6rjluB"
      },
      "execution_count": null,
      "outputs": []
    }
  ]
}